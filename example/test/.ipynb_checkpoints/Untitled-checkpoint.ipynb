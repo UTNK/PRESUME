{
 "cells": [
  {
   "cell_type": "code",
   "execution_count": 1,
   "metadata": {},
   "outputs": [],
   "source": [
    "from Bio import Phylo\n",
    "from matplotlib import pyplot as plt\n",
    "import matplotlib as mpl\n",
    "import numpy as np"
   ]
  },
  {
   "cell_type": "code",
   "execution_count": 2,
   "metadata": {},
   "outputs": [],
   "source": [
    "####### parameters #######\n",
    "mpl.rcParams['font.family']       = 'sans-serif'\n",
    "mpl.rcParams['font.sans-serif']   = [\"Helvetica\",\"Arial\",\"DejaVu Sans\",\"Lucida Grande\",\"Verdana\"]\n",
    "mpl.rcParams['figure.figsize']    = [4,3]\n",
    "mpl.rcParams['font.size']         = 10\n",
    "mpl.rcParams[\"axes.labelcolor\"]   = \"#000000\"\n",
    "mpl.rcParams[\"axes.linewidth\"]    = 1.0 \n",
    "mpl.rcParams[\"xtick.major.width\"] = 1.0\n",
    "mpl.rcParams[\"ytick.major.width\"] = 1.0\n",
    "cmap1 = plt.cm.tab10\n",
    "cmap2 = plt.cm.Set3  \n",
    "colors1 = [cmap1(i) for i in range(0,10)]\n",
    "colors2 = [cmap2(i) for i in range(0,12)] \n",
    "##########################"
   ]
  },
  {
   "cell_type": "code",
   "execution_count": 3,
   "metadata": {},
   "outputs": [],
   "source": [
    "def get_BBIs(treefile):\n",
    "    \n",
    "    tree=Phylo.read(treefile, 'newick')\n",
    "\n",
    "    BBIs=[]\n",
    "    for node in tree.get_nonterminals():\n",
    "        downstream_tips = node.get_terminals()\n",
    "        if(len(downstream_tips)>10 and len(node.clades)==2):\n",
    "            M = len(node.clades[0].get_terminals())\n",
    "            N = len(node.clades[1].get_terminals())\n",
    "            BBIs.append(min(M,N) / max(M,N))\n",
    "    \n",
    "    return BBIs"
   ]
  },
  {
   "cell_type": "code",
   "execution_count": 5,
   "metadata": {},
   "outputs": [],
   "source": [
    "BBIs = get_BBIs(\"/Users/nk/Dropbox (Yachie Lab)/NAOKI_KONNO.LAB/Experiment/Projects/FRACTAL/code/nkPRESUME/example/test/PRESUMEout/PRESUMEout.nwk\")"
   ]
  },
  {
   "cell_type": "code",
   "execution_count": 6,
   "metadata": {},
   "outputs": [
    {
     "data": {
      "text/plain": [
       "1377"
      ]
     },
     "execution_count": 6,
     "metadata": {},
     "output_type": "execute_result"
    }
   ],
   "source": [
    "len(BBIs)"
   ]
  },
  {
   "cell_type": "code",
   "execution_count": 7,
   "metadata": {},
   "outputs": [
    {
     "data": {
      "image/png": "[encoded data removed]",
      "text/plain": [
       "<Figure size 158.4x158.4 with 1 Axes>"
      ]
     },
     "metadata": {
      "needs_background": "light"
     },
     "output_type": "display_data"
    }
   ],
   "source": [
    "fig = plt.figure(figsize=(2.2,2.2))\n",
    "ax = fig.add_axes([0.1,0.1,0.8,0.8])\n",
    "ax.hist(BBIs, bins=20, histtype=\"step\",lw=1,range=(0,1))\n",
    "ax.set_xlim(0,1.0)\n",
    "ax.set_xlabel('Branch balance index',fontsize=10)\n",
    "ax.set_ylabel('Count',fontsize=10)\n",
    "plt.show()\n",
    "plt.close()"
   ]
  },
  {
   "cell_type": "code",
   "execution_count": 23,
   "metadata": {},
   "outputs": [],
   "source": [
    "a = np.random.randint(low=0,high=100000,size=100)"
   ]
  },
  {
   "cell_type": "code",
   "execution_count": 8,
   "metadata": {},
   "outputs": [],
   "source": [
    "a = list(range(100000000))"
   ]
  },
  {
   "cell_type": "code",
   "execution_count": 9,
   "metadata": {},
   "outputs": [],
   "source": [
    "def BinarySearch(numlist,query): # 一致する or それより小さい最大の値のindex\n",
    "    N = len(numlist)\n",
    "    m, M= 0, N-1\n",
    "    if (numlist[M] < query):\n",
    "        return M\n",
    "    else:\n",
    "        while (True):\n",
    "            mid = int((m+M)/2)\n",
    "            if (M-m < 2):\n",
    "                return m \n",
    "            elif (numlist[mid]  < query):\n",
    "                m = mid\n",
    "            elif (numlist[mid]  > query):\n",
    "                M = mid\n",
    "            elif (numlist[mid]  == query):\n",
    "                return mid"
   ]
  },
  {
   "cell_type": "code",
   "execution_count": 10,
   "metadata": {},
   "outputs": [
    {
     "data": {
      "text/plain": [
       "99999999"
      ]
     },
     "execution_count": 10,
     "metadata": {},
     "output_type": "execute_result"
    }
   ],
   "source": [
    "BinarySearch(a,100000000000)"
   ]
  },
  {
   "cell_type": "code",
   "execution_count": null,
   "metadata": {},
   "outputs": [],
   "source": []
  }
 ],
 "metadata": {
  "kernelspec": {
   "display_name": "Python 3",
   "language": "python",
   "name": "python3"
  },
  "language_info": {
   "codemirror_mode": {
    "name": "ipython",
    "version": 3
   },
   "file_extension": ".py",
   "mimetype": "text/x-python",
   "name": "python",
   "nbconvert_exporter": "python",
   "pygments_lexer": "ipython3",
   "version": "3.7.1"
  }
 },
 "nbformat": 4,
 "nbformat_minor": 2
}
