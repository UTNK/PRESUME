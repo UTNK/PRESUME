{
 "cells": [
  {
   "cell_type": "code",
   "execution_count": 11,
   "metadata": {},
   "outputs": [],
   "source": [
    "from Bio import Phylo\n",
    "\n",
    "def branch_analyzer(nwkfile):\n",
    "    tree=Phylo.read(nwkfile,'newick')\n",
    "    quene=[tree.clade]\n",
    "    list_of_branch_length = []\n",
    "    while(quene != []):\n",
    "        # sys.stdout.write(\"\\ralready calclated %d nodes\" % i)\n",
    "        # sys.stdout.flush()\n",
    "        m_clade = quene.pop()\n",
    "        if len(Phylo.BaseTree.Tree(m_clade).get_terminals()) > 2:\n",
    "            Lm = m_clade.branch_length\n",
    "            Ld1 = m_clade.clades[0].branch_length\n",
    "            Ld2 = m_clade.clades[1].branch_length\n",
    "            list_of_branch_length.append([Lm, Ld1])\n",
    "            list_of_branch_length.append([Lm, Ld2])\n",
    "            quene.extend(m_clade.clades)\n",
    "    \n",
    "    return list_of_branch_length"
   ]
  },
  {
   "cell_type": "code",
   "execution_count": 20,
   "metadata": {},
   "outputs": [],
   "source": [
    "OUTDIR_AFTER=\"/Users/iwatano/Desktop/debug_PRESUME/before\"\n",
    "OUTDIR_AFTER=\"/Users/iwatano/Desktop/debug_PRESUME/after\"\n",
    "\n",
    "s_list=[0.0, 0.1, 0.2, 0.3, 0.4, 0.5, 0.6, 0.7, 0.8, 0.9, 1.0, 2.0, 5.0]\n",
    "sigma = s_list[5]\n",
    "presumetree_before = \"/Users/iwatano/Desktop/debug_PRESUME/before/presume_{}/PRESUMEout/PRESUMEout.nwk\".format(sigma)\n",
    "branch_before = branch_analyzer(presumetree)"
   ]
  },
  {
   "cell_type": "code",
   "execution_count": 31,
   "metadata": {},
   "outputs": [
    {
     "data": {
      "text/plain": [
       "(0.0, 5.0)"
      ]
     },
     "execution_count": 31,
     "metadata": {},
     "output_type": "execute_result"
    },
    {
     "data": {
      "image/png": "[encoded data removed]",
      "text/plain": [
       "<Figure size 432x432 with 1 Axes>"
      ]
     },
     "metadata": {
      "needs_background": "light"
     },
     "output_type": "display_data"
    }
   ],
   "source": [
    "import numpy as np\n",
    "import matplotlib.pyplot as plt\n",
    "\n",
    "presumetree_before = \"/Users/iwatano/Desktop/debug_PRESUME/before/presume_{}/PRESUMEout/PRESUMEout.nwk\".format(0.4)\n",
    "branch_before = branch_analyzer(presumetree_before)\n",
    "# 乱数を生成\n",
    "x = [i[0] for i in branch_before]\n",
    "y = [i[1] for i in branch_before]\n",
    "# 散布図を描画\n",
    "plt.figure(figsize=(6, 6))\n",
    "plt.scatter(x, y)\n",
    "plt.xlim(0, 5)\n",
    "plt.ylim(0, 5)\n",
    "plt.xlabel('branch_length of daughter sequence')\n",
    "plt.ylabel('branch_length of mother sequence')"
   ]
  },
  {
   "cell_type": "code",
   "execution_count": 32,
   "metadata": {},
   "outputs": [
    {
     "data": {
      "text/plain": [
       "(0.0, 5.0)"
      ]
     },
     "execution_count": 32,
     "metadata": {},
     "output_type": "execute_result"
    },
    {
     "data": {
      "image/png": "[encoded data removed]",
      "text/plain": [
       "<Figure size 432x432 with 1 Axes>"
      ]
     },
     "metadata": {
      "needs_background": "light"
     },
     "output_type": "display_data"
    }
   ],
   "source": [
    "import numpy as np\n",
    "import matplotlib.pyplot as plt\n",
    " \n",
    "presumetree_after = \"/Users/iwatano/Desktop/debug_PRESUME/after/presume_{}/PRESUMEout/PRESUMEout.nwk\".format(0.4)\n",
    "branch_after = branch_analyzer(presumetree_after)\n",
    "# 乱数を生成\n",
    "x = [i[0] for i in branch_after]\n",
    "y = [i[1] for i in branch_after]\n",
    "# 散布図を描画\n",
    "plt.figure(figsize=(6, 6))\n",
    "plt.scatter(x, y)\n",
    "plt.xlim(0, 5)\n",
    "plt.ylim(0, 5)\n",
    "plt.xlabel('branch_length of daughter sequence')\n",
    "plt.ylabel('branch_length of mother sequence')"
   ]
  },
  {
   "cell_type": "raw",
   "metadata": {},
   "source": []
  }
 ],
 "metadata": {
  "kernelspec": {
   "display_name": "Python 3",
   "language": "python",
   "name": "python3"
  },
  "language_info": {
   "codemirror_mode": {
    "name": "ipython",
    "version": 3
   },
   "file_extension": ".py",
   "mimetype": "text/x-python",
   "name": "python",
   "nbconvert_exporter": "python",
   "pygments_lexer": "ipython3",
   "version": "3.7.3"
  }
 },
 "nbformat": 4,
 "nbformat_minor": 4
}
